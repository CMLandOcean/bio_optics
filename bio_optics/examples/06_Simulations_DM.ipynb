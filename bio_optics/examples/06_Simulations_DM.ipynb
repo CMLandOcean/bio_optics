{
 "cells": [
  {
   "cell_type": "code",
   "execution_count": 1,
   "id": "e5c7de04-7162-4c24-b3e0-ca542c80955d",
   "metadata": {},
   "outputs": [],
   "source": [
    "import pandas as pd\n",
    "import numpy as np\n",
    "import matplotlib.pyplot as plt"
   ]
  },
  {
   "cell_type": "markdown",
   "id": "b72b7dba-0509-4a0c-b6c2-fe829c562e53",
   "metadata": {},
   "source": [
    "# Setup Random Selection of Model Parameters"
   ]
  },
  {
   "cell_type": "code",
   "execution_count": 2,
   "id": "e05c9e59-886f-4898-96a0-754201fff7a5",
   "metadata": {},
   "outputs": [],
   "source": [
    "ModelRangesDict = {\n",
    "        'NorthSea' : {\n",
    "            'ChlGroups': ['diatoms', 'dinofl', 'coccol', 'c1'],\n",
    "            'ChlGroupsNo': [0, 1, 2, 3],\n",
    "            'ChlGroupFreq': [4, 4, 1, 1],\n",
    "            'ChlDepMin': np.array(0), # which ranges occur for component iy, if component ix is the dominant one? here: minimum conc.\n",
    "            'ChlDepMax': np.array(0), # which ranges occur for component iy, if component ix is the dominant one? here: maximum conc.\n",
    "            'totChla' : [0.01, 100.],\n",
    "            'diatoms': [0., 100.],\n",
    "            'dinofl': [0., 100.],\n",
    "            'coccol': [0., 100.],\n",
    "            'c1': [0., 5.],\n",
    "            'aCDOM': [0, 5.],\n",
    "            'NAP': [0., 30.],\n",
    "            's_cdom': [],  #Babin et al 2003b: 0.0176+-0.002 1/nm(European coastal waters), Shun 2023: 0.0174 +-0.0014 1/nm\n",
    "            'L_FL': [],\n",
    "            'bbpbp_ratio_bd': [],\n",
    "            'bbpbp_ratio_md': [],\n",
    "            'N_parameter': 10\n",
    "        },\n",
    "        'BalticSea' : {},\n",
    "        'Ocean' : {\n",
    "            'ChlGroups': ['coccol', 'c1'],\n",
    "            'ChlGroupFreq': [1, 8],\n",
    "            'coccol': [0., 10.],\n",
    "            'c1': [0., 1.],\n",
    "            'aCDOM': [0, 1.],\n",
    "            'NAP': [0., 1.],\n",
    "            's_cdom': [],\n",
    "            'L_FL': [],\n",
    "            'bbpbp_ratio_bd': [],\n",
    "            'bbpbp_ratio_md': []\n",
    "        },\n",
    "        'fullDB' : {}\n",
    "    }\n",
    " ShunBiColDict = {\n",
    "        'diatoms': 0,\n",
    "        'green': 1,\n",
    "        'crypto': 2,\n",
    "        'cyanoR': 3,\n",
    "        'cyanoB': 4,\n",
    "        'coccol': 5,\n",
    "        'c1': 6,\n",
    "    }\n",
    "BioOpticsColDict = {\n",
    "        'diatoms': 'C_0',\n",
    "        'green': 'C_1',\n",
    "        'crypto': 'C_2',\n",
    "        'cyanoR': 'C_3',\n",
    "        'cyanoB': 'C_4',\n",
    "        'coccol': 'C_5',\n",
    "        'dinofl': 'C_6',\n",
    "        'c1': 'C_7',\n",
    "    }"
   ]
  },
  {
   "cell_type": "code",
   "execution_count": 3,
   "id": "3ecdbce5-e4d6-4aca-93c8-4d56e40949b0",
   "metadata": {},
   "outputs": [],
   "source": [
    "# Parameter selection\n",
    "N = 5000\n",
    "rangeType='NorthSea'\n",
    "outpath = \"E:\\Documents\\projects\\EnsAD\\simulations_PhytoGroups\\\\\""
   ]
  },
  {
   "cell_type": "code",
   "execution_count": 4,
   "id": "c5b13976-ea6e-4897-9460-29ef46a10c86",
   "metadata": {},
   "outputs": [
    {
     "name": "stderr",
     "output_type": "stream",
     "text": [
      "C:\\Users\\Dagmar\\AppData\\Local\\Temp\\ipykernel_16780\\2293026833.py:83: RuntimeWarning: invalid value encountered in cast\n",
      "  dominantGroupNoArray = np.asarray(dominantGroupNoArray, dtype='int16')\n"
     ]
    }
   ],
   "source": [
    "###\n",
    "# Chlorophyll / Phytoplankton mixture model\n",
    "###\n",
    "ModelRanges = ModelRangesDict[rangeType]\n",
    "total_chl = np.random.uniform(ModelRanges['totChla'][0], ModelRanges['totChla'][1], N)\n",
    "Group0List = []\n",
    "dominantGroupNoArray = np.zeros((N, len(ModelRanges['ChlGroups']))) + np.nan\n",
    "c_groupArray = np.zeros((N, len(ModelRanges['ChlGroups'])))\n",
    "for g, n in zip(ModelRanges['ChlGroupsNo'], ModelRanges['ChlGroupFreq']):\n",
    "    [Group0List.append(g) for i in range(n)]\n",
    "\n",
    "# select dominant group 1\n",
    "dominantGroupNoArray[:, 0] = np.random.choice(Group0List, replace=True, size=N)\n",
    "# select concentration for dominant group\n",
    "for gID in ModelRanges['ChlGroupsNo']:\n",
    "    ID = np.array(dominantGroupNoArray[:, 0] == gID)\n",
    "    a = np.zeros(np.sum(ID))\n",
    "    for j in range(len(a)):\n",
    "        group = ModelRanges['ChlGroups'][gID]\n",
    "        if total_chl[ID][j] * 0.3 < ModelRanges[group][1]:\n",
    "            a[j] = np.random.uniform(total_chl[ID][j] * 0.3, ModelRanges[group][1], 1)\n",
    "        else:\n",
    "            a[j] = np.random.uniform(ModelRanges[group][0], ModelRanges[group][1], 1) # particularly for c1 with lower upper limits\n",
    "\n",
    "    c_groupArray[ID, 0] = a\n",
    "\n",
    "##todo: check, if max value of dominant group is exceeded!\n",
    "\n",
    "## second Group and more\n",
    "for i in range(N):\n",
    "    Group0List_ = np.copy(np.asarray(Group0List))\n",
    "    #todo: check, whether second dominant group is plausible (as function of c_groupArray[i, 0])\n",
    "    col = 1\n",
    "    addSecondDominantGroup = True\n",
    "    if addSecondDominantGroup:\n",
    "        delta = total_chl[i] - c_groupArray[i, 0]\n",
    "        if delta > 0.:\n",
    "            ID = np.array(Group0List_ != dominantGroupNoArray[i, 0])\n",
    "            Group0List_ = Group0List_[ID]\n",
    "\n",
    "            #select group 2\n",
    "            dominantGroupNoArray[i, 1] = np.random.choice(Group0List_, replace=True, size=1)\n",
    "            # todo: ranges here have to come from the dependend ranges (ChlDepMin, ChlDepMax)\n",
    "            group = ModelRanges['ChlGroups'][int(dominantGroupNoArray[i, col])]\n",
    "            if total_chl[i] * 0.3 < ModelRanges[group][1]:\n",
    "                c_groupArray[i, col] = np.random.uniform(total_chl[i] * 0.3, ModelRanges[group][1], 1)\n",
    "            else:\n",
    "                c_groupArray[i, col] = np.random.uniform(ModelRanges[group][0], ModelRanges[group][1], 1)\n",
    "\n",
    "            delta = total_chl[i] - np.sum(c_groupArray[i, 0:(col+1)])\n",
    "            if delta < 0.:\n",
    "                c_groupArray[i, col] = total_chl[i] - c_groupArray[i, 0]\n",
    "\n",
    "        else:\n",
    "            c_groupArray[i, col-1] = total_chl[i]\n",
    "\n",
    "        col +=1\n",
    "\n",
    "    # no second dominant group, use random selection\n",
    "    if col < len(ModelRanges['ChlGroups']):\n",
    "        for j in range(len(ModelRanges['ChlGroups']) - col):\n",
    "            delta = total_chl[i] - np.sum(c_groupArray[i, 0:col])\n",
    "            if delta > 0.:\n",
    "                ID = np.array(Group0List_ != dominantGroupNoArray[i, col-1])\n",
    "                Group0List_ = Group0List_[ID]\n",
    "                #select group col\n",
    "                dominantGroupNoArray[i, col] = np.random.choice(Group0List_, replace=True, size=1)\n",
    "                group = ModelRanges['ChlGroups'][int(dominantGroupNoArray[i, col])]\n",
    "                c_groupArray[i, col] = np.random.uniform(ModelRanges[group][0], ModelRanges[group][1], 1)\n",
    "\n",
    "                delta = total_chl[i] - np.sum(c_groupArray[i, 0:(col + 1)])\n",
    "                if delta < 0.:\n",
    "                    c_groupArray[i, col] = total_chl[i] - np.sum(c_groupArray[i, 0:col])\n",
    "\n",
    "            else:\n",
    "                c_groupArray[i, col] += delta\n",
    "                break\n",
    "\n",
    "            col += 1\n",
    "\n",
    "## fill in the concentrations in the output array. Columns are sorted by type!\n",
    "notNaNArray = np.logical_not(np.isnan(dominantGroupNoArray))\n",
    "dominantGroupNoArray = np.asarray(dominantGroupNoArray, dtype='int16')\n",
    "out = np.zeros(dominantGroupNoArray.shape)\n",
    "for i in range(N):\n",
    "    ID = np.transpose(dominantGroupNoArray[i,:])[notNaNArray[i,:]]\n",
    "    values = c_groupArray[i,:][notNaNArray[i,:]]\n",
    "    for j, ind in enumerate(ID):\n",
    "        out[i, ind] = values[j]\n",
    "\n",
    "outDF = pd.DataFrame()\n",
    "for j, var in enumerate(ModelRanges['ChlGroups']):\n",
    "    outDF[var] = out[:, j]\n",
    "\n",
    "outDF['totChl'] = total_chl\n",
    "\n",
    "# \n",
    "# outDF.to_csv(outpath + \"test_simulation_setup1.txt\", header=True, sep='\\t')"
   ]
  },
  {
   "cell_type": "code",
   "execution_count": 5,
   "id": "254827fb-274a-42bd-acd9-8838cc6393cc",
   "metadata": {},
   "outputs": [
    {
     "data": {
      "image/png": "[encoded data removed]",
      "text/plain": [
       "<Figure size 640x480 with 1 Axes>"
      ]
     },
     "metadata": {},
     "output_type": "display_data"
    },
    {
     "data": {
      "image/png": "[encoded data removed]",
      "text/plain": [
       "<Figure size 1000x400 with 2 Axes>"
      ]
     },
     "metadata": {},
     "output_type": "display_data"
    }
   ],
   "source": [
    "#if diagnostic_plot:\n",
    "plt.plot(outDF['totChl'].values, np.sum(out, axis=1), '+', alpha=0.2)\n",
    "plt.show()\n",
    "fig, ax = plt.subplots(nrows=1, ncols=2, figsize=(10,4))\n",
    "for j, var in enumerate(ModelRanges['ChlGroups']):\n",
    "    ID = np.array(outDF[var].values > 0.)\n",
    "    if var == 'c1':\n",
    "        ax[1].hist(outDF[var].values[ID], 30, label=var, alpha=0.3)\n",
    "    else:\n",
    "        ax[0].hist(outDF[var].values[ID], 30, label=var, alpha=0.3)\n",
    "ax[1].legend()\n",
    "ax[0].legend()\n",
    "fig.tight_layout()\n",
    "plt.show()"
   ]
  },
  {
   "cell_type": "code",
   "execution_count": null,
   "id": "8a541fdf-a0e0-4a8a-8826-16dee1dcd635",
   "metadata": {},
   "outputs": [],
   "source": [
    "###\n",
    "# NAP\n",
    "###\n",
    "NAP = np.random.uniform(ModelRanges['NAP'][0], ModelRanges['NAP'][1], N)  #todo: covariance with total_chl??\n",
    "bbp_bp_bulk = np.random.uniform(ModelRanges['bbpbp_ratio_bd'][0], ModelRanges['bbpbp_ratio_bd'][1], N)  # higher ranges with cyanobacteria!\n"
   ]
  },
  {
   "cell_type": "code",
   "execution_count": null,
   "id": "6ba043d2-6c4f-46e2-816d-38dd54e2a0cb",
   "metadata": {},
   "outputs": [],
   "source": [
    "###\n",
    "# aCDOM\n",
    "###\n",
    "A_chl_ = pd.read_csv(\n",
    "        \"E:\\Documents\\projects\\EnsAD\\inversion\\HZG_HEREON_groups\\phytoplankton_specific_absorption_aphi_HEREON_Shun2023.txt\",\n",
    "        sep='\\t', header=0, comment='#')\n",
    "ID = np.array(A_chl_['wl'] == 440.)\n",
    "A_chl440 = A_chl_.loc[ID, :]\n",
    "## Dinoflagellate spectrum from WASI auxiliary data\n",
    "A_chl_dino_ = pd.read_csv(\"C:\\WASI6\\DATA\\DINOFLAGELLATES.A\", header=None, skiprows=11, sep='   ')\n",
    "A_chl_dino_.columns = ['wl', 'aphi_star']\n",
    "ID = np.array(A_chl_dino_['wl'] == 440.)\n",
    "A_dino_chl440 = A_chl_dino_.loc[ID, :]\n",
    "\n",
    "aphi440 = np.zeros(N)\n",
    "for group in ModelRanges['ChlGroups']:\n",
    "    if group == 'dinofl':\n",
    "        aphi440 += A_dino_chl440['aphi_star'].values * outDF[group]\n",
    "    else:\n",
    "        aphi440 += A_chl440.iloc[:, ShunBiColDict[group] + 1].values * outDF[group]\n",
    "s_cdom = np.random.uniform(0.01, 0.02, N) #Shun Bi table\n",
    "R = np.random.sample(N)\n",
    "p1 = 0.3 + (5.7*R*aphi440)/(0.02 + aphi440)\n",
    "acdom = p1 * aphi440  #covariance with total_chl from IOCCG 2006 two-term model"
   ]
  },
  {
   "cell_type": "code",
   "execution_count": null,
   "id": "f0b2ffa1-17ef-47c0-9b75-e9ca908bb7af",
   "metadata": {},
   "outputs": [],
   "source": [
    " ###\n",
    "# Fluorscence parameters\n",
    "###\n",
    "FL_chl = np.random.uniform(0., 0.05, N)\n",
    "# todo: smaller, when totChl is higher! quenching\n",
    "FL_chl_Npeaks = np.zeros(N)  #todo: correlation with total_chl??\n",
    "if 'cyanoB' in ModelRanges['ChlGroups']:\n",
    "    Fl_phycoerythrin = np.random.uniform(0., 0.05, N)  # only with cyanoB\n",
    "    # todo: smaller, when cyanoB is higher! quenching\n",
    "if 'cyanoR' in ModelRanges['ChlGroups']:\n",
    "    # todo: smaller, when cyanoR is higher! quenching\n",
    "    FL_phycocyanin = np.random.uniform(0., 0.05, N)  # only with cyanoR"
   ]
  },
  {
   "cell_type": "code",
   "execution_count": null,
   "id": "fa29aa2e-55d9-4bf1-a392-6432f64935d4",
   "metadata": {},
   "outputs": [],
   "source": [
    "### output for bio_optics\n",
    "# C_0\tC_1\tC_2\tC_3\tC_4\tC_5\tC_6\tC_7\tC_Y\tC_ism\tL_fl_lambda0\tL_fl_phycocyanin\tL_fl_phycoerythrin\n",
    "# b_ratio_C_0\tb_ratio_C_1\tb_ratio_C_2\tb_ratio_C_3\tb_ratio_C_4\tb_ratio_C_5\tb_ratio_C_6\tb_ratio_C_7\tb_ratio_d\n",
    "# A_md\tA_bd\tS_md\tS_bd\tS_cdom\tC_md\tC_bd\tK\n",
    "# lambda_0_cdom\tlambda_0_md\tlambda_0_bd\tlambda_0_c_d\tlambda_0_phy\n",
    "# gamma_d\tx0\tx1\tx2\tA\tE0\tE1\tW\n",
    "# fwhm1\tfwhm2\tfwhm_phycocyanin\tfwhm_phycoerythrin\tlambda_C1\tlambda_C2\tlambda_C_phycocyanin\tlambda_C_phycoerythrin\n",
    "# double\tinterpolate\tGw0\tGw1\tGp0\tGp1\terror_method\ttheta_sun\ttheta_view\tn1\tn2\tkappa_0\tfresh\n",
    "# T_W\tT_W_0\tP\tAM\tRH\tH_oz\tWV\talpha\tbeta\tg_dd\tg_dsr\tg_dsa\td_r\tf_dd\tf_ds\toffset\tfit_surface\tC_phy\n",
    "\n",
    "## create output table with the changed parameters only!\n",
    "outDF2 = pd.DataFrame()\n",
    "for group in ModelRanges['ChlGroups']:\n",
    "    outDF2[BioOpticsColDict[group]] = outDF[group]\n",
    "outDF2['C_Y'] = acdom\n",
    "outDF2['C_ism'] = NAP\n",
    "outDF2['L_fl_lambda0'] = FL_chl\n",
    "if 'cyanoR' in ModelRanges['ChlGroups']:\n",
    "    outDF2['L_fl_phycocyanin'] = FL_phycocyanin  # only with cyanoR\n",
    "if 'cyanoB' in ModelRanges['ChlGroups']:\n",
    "    outDF2['lambda_C_phycoerythrin'] = Fl_phycoerythrin  # only with cyanoB\n",
    "outDF2['b_ratio_d'] = bbp_bp_bulk\n",
    "outDF2['S_cdom'] = s_cdom\n",
    "outDF2.to_csv(outpath + \"test_simulation_\" +rangeType+\"_version1_N\"+str(int(N))+\".txt\", header=True, sep='\\t')"
   ]
  },
  {
   "cell_type": "markdown",
   "id": "bd63ea87-21d3-45bd-84f4-ada54365b7b3",
   "metadata": {},
   "source": [
    "# Analyse previously defined parameters"
   ]
  },
  {
   "cell_type": "code",
   "execution_count": 8,
   "id": "8b24518f-fc0a-4648-b34b-7cbd2353cc24",
   "metadata": {
    "editable": true,
    "slideshow": {
     "slide_type": ""
    },
    "tags": []
   },
   "outputs": [],
   "source": [
    "outpath = \"E:\\Documents\\projects\\EnsAD\\simulations_PhytoGroups\\\\\"\n",
    "N = 50000\n",
    "rangeType='NorthSea'\n",
    "outDF2 = pd.read_csv(outpath + \"test_simulation_\" +rangeType+\"_version1_N\"+str(int(N))+\".txt\", header=0, sep='\\t')"
   ]
  },
  {
   "cell_type": "code",
   "execution_count": null,
   "id": "4c054dce-da22-4420-a02b-ba6a9aaf358e",
   "metadata": {
    "editable": true,
    "slideshow": {
     "slide_type": ""
    },
    "tags": []
   },
   "outputs": [],
   "source": [
    "for p in "
   ]
  }
 ],
 "metadata": {
  "kernelspec": {
   "display_name": "Python 3 (ipykernel)",
   "language": "python",
   "name": "python3"
  },
  "language_info": {
   "codemirror_mode": {
    "name": "ipython",
    "version": 3
   },
   "file_extension": ".py",
   "mimetype": "text/x-python",
   "name": "python",
   "nbconvert_exporter": "python",
   "pygments_lexer": "ipython3",
   "version": "3.8.13"
  }
 },
 "nbformat": 4,
 "nbformat_minor": 5
}
